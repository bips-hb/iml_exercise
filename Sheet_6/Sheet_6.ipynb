{
 "cells": [
  {
   "cell_type": "markdown",
   "id": "10758e62",
   "metadata": {},
   "source": [
    "# Interpretable Machine Learning\n",
    "## Exercise Sheet: 6\n",
    "## This exercise sheet covers chapters 8.6 and 9.1 from the IML book by Christoph Molnar\n",
    "\n",
    "Kristin Blesch (blesch@leibniz-bips.de)<br>\n",
    "Niklas Koenen (koenen@leibniz-bips.de)\n",
    "<hr style=\"border:1.5px solid gray\"> </hr>"
   ]
  },
  {
   "cell_type": "markdown",
   "id": "f1940ab9",
   "metadata": {},
   "source": [
    "# 1) Global Surrogate"
   ]
  },
  {
   "cell_type": "markdown",
   "id": "41c96de7",
   "metadata": {},
   "source": [
    "**a)** Explain the method 'Global Surrogate' and give an example.  \n",
    "\n",
    "**Solution:**"
   ]
  },
  {
   "cell_type": "markdown",
   "id": "4ff02c05",
   "metadata": {},
   "source": []
  },
  {
   "cell_type": "markdown",
   "id": "c06b46bc",
   "metadata": {},
   "source": [
    "**b)** How can we measure the performance of a global surrogate. What is the consequence if the model performs very bad but the surrogate very good?  \n",
    "\n",
    "**Solution:**"
   ]
  },
  {
   "cell_type": "markdown",
   "id": "6218e8a8",
   "metadata": {},
   "source": []
  },
  {
   "cell_type": "markdown",
   "id": "af9d4fbd",
   "metadata": {},
   "source": [
    "# 2) Individual Conditional Expectation (ICE)"
   ]
  },
  {
   "cell_type": "markdown",
   "id": "34e367ce",
   "metadata": {},
   "source": [
    "**a)** What is an individual conditional expectation (ICE) plot and what is its relation to the PDP? Also explain the variants c-ICE and d-ICE and their advantages.\n",
    "\n",
    "**Solution:**"
   ]
  },
  {
   "cell_type": "markdown",
   "id": "c22ec08f",
   "metadata": {},
   "source": []
  },
  {
   "cell_type": "markdown",
   "id": "8f2a2148",
   "metadata": {},
   "source": [
    "**b)** We again consider the example from Sheet 4 Task 1, but in this case we train a decision tree via gradient boosting. Execute the following code, which is almost identical to the one in Sheet 4, only with a gradient boosting machine:"
   ]
  },
  {
   "cell_type": "code",
   "execution_count": null,
   "id": "b571cdec",
   "metadata": {},
   "outputs": [],
   "source": [
    "import pandas as pd\n",
    "from sklearn.datasets import fetch_california_housing\n",
    "from sklearn.model_selection import train_test_split\n",
    "\n",
    "# Get data\n",
    "cal_housing = fetch_california_housing()\n",
    "X = pd.DataFrame(cal_housing.data, columns=cal_housing.feature_names)\n",
    "y = cal_housing.target\n",
    "\n",
    "# Get train and test split\n",
    "X_train, X_test, y_train, y_test = train_test_split(X, y, test_size=0.1, random_state=0)\n",
    "\n",
    "# Train model and calculate R²-score\n",
    "from sklearn.ensemble import HistGradientBoostingRegressor\n",
    "\n",
    "model = HistGradientBoostingRegressor(random_state = 42)\n",
    "model.fit(X_train, y_train)\n",
    "print(f\"Test R2 score: {model.score(X_test, y_test):.2f}\")"
   ]
  },
  {
   "cell_type": "markdown",
   "id": "2866060f",
   "metadata": {},
   "source": [
    "Now create the ICE plot for each feature using the already known function [`PartialDependenceDisplay`](https://scikit-learn.org/stable/modules/generated/sklearn.inspection.PartialDependenceDisplay.html#sklearn-inspection-partialdependencedisplay).  \n",
    "\n",
    "**Solution:**"
   ]
  },
  {
   "cell_type": "code",
   "execution_count": null,
   "id": "4cc6ddf0",
   "metadata": {},
   "outputs": [],
   "source": [
    "import matplotlib.pyplot as plt\n",
    "from sklearn.inspection import PartialDependenceDisplay\n",
    "\n",
    "fig, ax = plt.subplots(nrows = 2, ncols = 4,figsize=(24, 12))\n",
    "\n",
    "#\n",
    "# to do\n",
    "#\n",
    "\n",
    "plt.show()"
   ]
  },
  {
   "cell_type": "markdown",
   "id": "6f902f42",
   "metadata": {},
   "source": [
    "**Bonus:** Modify the predict function of the trained model to produce a c-ICE for the feature `MedInc`."
   ]
  },
  {
   "cell_type": "code",
   "execution_count": null,
   "id": "8001b25f",
   "metadata": {},
   "outputs": [],
   "source": [
    "def new_predict(X):\n",
    "    #\n",
    "    # to do\n",
    "    #\n",
    "    \n",
    "    return None\n",
    "\n",
    "model.predict = new_predict\n",
    "\n",
    "#\n",
    "# the same as in the subtask before\n",
    "#"
   ]
  }
 ],
 "metadata": {
  "kernelspec": {
   "display_name": "Python 3",
   "language": "python",
   "name": "python3"
  },
  "language_info": {
   "codemirror_mode": {
    "name": "ipython",
    "version": 3
   },
   "file_extension": ".py",
   "mimetype": "text/x-python",
   "name": "python",
   "nbconvert_exporter": "python",
   "pygments_lexer": "ipython3",
   "version": "3.8.10"
  }
 },
 "nbformat": 4,
 "nbformat_minor": 5
}
