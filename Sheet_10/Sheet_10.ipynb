{
 "cells": [
  {
   "cell_type": "markdown",
   "id": "10758e62",
   "metadata": {},
   "source": [
    "# Interpretable Machine Learning\n",
    "## Exercise Sheet: 10\n",
    "## This exercise sheet covers chapters 10.3 and 10.4 from the IML book by Christoph Molnar\n",
    "Kristin Blesch (blesch@leibniz-bips.de)<br>\n",
    "Niklas Koenen (koenen@leibniz-bips.de)\n",
    "<hr style=\"border:1.5px solid gray\"> </hr>"
   ]
  },
  {
   "cell_type": "markdown",
   "id": "63ed6c18",
   "metadata": {},
   "source": [
    "# 1) Detecting Concepts\n",
    "\n",
    "## a) Concept Activation Vector (CAV)\n",
    "\n",
    "How do you determine a Concept Activation Vector (CAV) for a given concept $C$ and how can it be interpreted? If possible, explain the CAV with an example in the plane $\\mathbb{R}^2$.\n",
    "\n",
    "**Solution:**"
   ]
  },
  {
   "cell_type": "markdown",
   "id": "f3e9c816",
   "metadata": {},
   "source": []
  },
  {
   "cell_type": "markdown",
   "id": "855c18f6",
   "metadata": {},
   "source": [
    "## b) Testing with CAVs (TCAV)\n",
    "\n",
    "Explain the TCAV approach. What does the calculated TCAV score mean and how can we check whether it is meaningful for the given concept or not?\n",
    "\n",
    "**Solution:**"
   ]
  },
  {
   "cell_type": "markdown",
   "id": "0511d922",
   "metadata": {},
   "source": []
  },
  {
   "cell_type": "markdown",
   "id": "b26c8db3",
   "metadata": {},
   "source": [
    "# 2) Adversarial Examples\n",
    "\n",
    "## a) Methods\n",
    "\n",
    "In chapter 10.4, 6 possibilities are presented to generate adversarial examples. List these and briefly explain how they work and differ.\n",
    "\n",
    "**Solution:**"
   ]
  },
  {
   "cell_type": "markdown",
   "id": "f0a617f9",
   "metadata": {},
   "source": []
  },
  {
   "cell_type": "markdown",
   "id": "60fabfdc",
   "metadata": {},
   "source": [
    "## b) The Cybersecurity Perspective\n",
    "\n",
    "Explain the three golden rules in cybersecurity.\n",
    "\n",
    "**Solution:**"
   ]
  },
  {
   "cell_type": "markdown",
   "id": "1426c74d",
   "metadata": {},
   "source": []
  }
 ],
 "metadata": {
  "kernelspec": {
   "display_name": "Python 3",
   "language": "python",
   "name": "python3"
  },
  "language_info": {
   "codemirror_mode": {
    "name": "ipython",
    "version": 3
   },
   "file_extension": ".py",
   "mimetype": "text/x-python",
   "name": "python",
   "nbconvert_exporter": "python",
   "pygments_lexer": "ipython3",
   "version": "3.8.10"
  }
 },
 "nbformat": 4,
 "nbformat_minor": 5
}
