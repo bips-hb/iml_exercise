{
 "cells": [
  {
   "cell_type": "markdown",
   "id": "10758e62",
   "metadata": {},
   "source": [
    "# Interpretable Machine Learning\n",
    "## Exercise Sheet 8 \n",
    "## This exercise sheet covers chapters 9.5 and 9.6 from the IML book by Christoph Molnar\n",
    "Kristin Blesch (blesch@leibniz-bips.de)<br>\n",
    "Niklas Koenen (koenen@leibniz-bips.de)\n",
    "<hr style=\"border:1.5px solid gray\"> </hr>"
   ]
  },
  {
   "cell_type": "markdown",
   "id": "74c5f617",
   "metadata": {},
   "source": [
    "# 1) Shapley values\n",
    "\n",
    "#### a) Explain what Shapley values are and how to calculate them. How can we interpret Shapley values?"
   ]
  },
  {
   "cell_type": "markdown",
   "id": "75ad7007",
   "metadata": {},
   "source": [
    "#### b) Discuss advantages and disadvantages of Shapley values. As a remedy for disadvantages of Shapley values, SHAP values have been proposed, what are they and why do we need them? "
   ]
  },
  {
   "cell_type": "markdown",
   "id": "07c25879",
   "metadata": {},
   "source": [
    "# 2) SHAP values"
   ]
  },
  {
   "cell_type": "markdown",
   "id": "b633b688",
   "metadata": {},
   "source": [
    "#### a) Fitting the model and calculation of SHAP values"
   ]
  },
  {
   "cell_type": "markdown",
   "id": "dc43f9ac",
   "metadata": {},
   "source": [
    "This exercise is inspired by \"Machine Learning Explainability\" Lesson 4 by Dan Becker, publicly available on Kaggle, see https://www.kaggle.com/learn/machine-learning-explainability\n",
    "\n",
    "After FIFA World Cup football matches, a so-called 'Man of the Match' award is handed out to the best player of the match. In this task we are going to predict for each team the probability of whether one of the team players wins the 'Man of the Match' award, based on data from the FIFA World Cup 2018. We will make use of Shapley values in order to interpret the predictions made.\n",
    "\n",
    "####  Tasks\n",
    "\n",
    "1. Load the `FIFA_2018_statistics.csv` file into a data table using the pandas library and Predict the `Man of the Match` probability through a random forest. \n",
    "2. Use an instance from your test set to generate an exemplary prediction for the probability of a team having the 'Man of the Macht' amongst them. Calculate SHAP values for this instance using KernelSHAP.\n",
    "\n",
    "##### Remarks and hints: Note that many of the float variables in the data set contain missing values and hence, consider integer variables only. Transform the target variable 'Man of the Match' into a binary format suitable for a prediction task and select only explanatory variables of type integer (dtype int64). Don't forget to split the data into a trainig and test set before fitting the random forest!  \n",
    "\n",
    "**Solution:**"
   ]
  },
  {
   "cell_type": "code",
   "execution_count": 1,
   "id": "23c3d2f1",
   "metadata": {},
   "outputs": [],
   "source": [
    "import pandas as pd\n",
    "data = pd.read_csv('FIFA_2018_statistics.csv')\n"
   ]
  },
  {
   "cell_type": "code",
   "execution_count": 2,
   "id": "c7c0f0fe",
   "metadata": {},
   "outputs": [
    {
     "data": {
      "text/plain": [
       "RandomForestClassifier(random_state=0)"
      ]
     },
     "execution_count": 2,
     "metadata": {},
     "output_type": "execute_result"
    }
   ],
   "source": [
    "import numpy as np\n",
    "from sklearn.model_selection import train_test_split\n",
    "from sklearn.ensemble import RandomForestClassifier\n",
    "\n"
   ]
  },
  {
   "cell_type": "markdown",
   "id": "ca0b55f9",
   "metadata": {},
   "source": [
    "Calculating SHAP values using KernelSHAP"
   ]
  },
  {
   "cell_type": "code",
   "execution_count": 5,
   "id": "a6154c77",
   "metadata": {},
   "outputs": [],
   "source": [
    "import shap\n",
    "# alternative: from shap import KernelExplainer"
   ]
  },
  {
   "cell_type": "markdown",
   "id": "8e63b244",
   "metadata": {},
   "source": [
    "#### b) Why might using TreeSHAP be a better idea in for our setting than using KernelSHAP? Calculate SHAP values using Tree SHAP. Visualize SHAP values using a force plot and interpret your results."
   ]
  },
  {
   "cell_type": "code",
   "execution_count": 1,
   "id": "8ad4c911",
   "metadata": {},
   "outputs": [],
   "source": [
    "import shap\n",
    "# alternative: from shap import TreeExplainer"
   ]
  },
  {
   "cell_type": "code",
   "execution_count": null,
   "id": "471fe77e",
   "metadata": {},
   "outputs": [],
   "source": []
  }
 ],
 "metadata": {
  "kernelspec": {
   "display_name": "Python 3.8.8 64-bit ('base': conda)",
   "language": "python",
   "name": "python388jvsc74a57bd088dc94f85831c7bd35a321f0de4bbf881cfe74aa5b6804b5ee4d1f1a4d445235"
  },
  "language_info": {
   "codemirror_mode": {
    "name": "ipython",
    "version": 3
   },
   "file_extension": ".py",
   "mimetype": "text/x-python",
   "name": "python",
   "nbconvert_exporter": "python",
   "pygments_lexer": "ipython3",
   "version": "3.8.8"
  }
 },
 "nbformat": 4,
 "nbformat_minor": 5
}
