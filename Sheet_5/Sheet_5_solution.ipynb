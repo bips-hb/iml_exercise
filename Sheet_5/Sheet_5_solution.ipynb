{
 "cells": [
  {
   "cell_type": "markdown",
   "id": "10758e62",
   "metadata": {},
   "source": [
    "# Interpretable Machine Learning\n",
    "## Exercise Sheet: 5\n",
    "## This exercise sheet covers chapters 8.3 and 8.5 from the IML book by Christoph Molnar\n",
    "\n",
    "Kristin Blesch (blesch@leibniz-bips.de)<br>\n",
    "Niklas Koenen (koenen@leibniz-bips.de)\n",
    "<hr style=\"border:1.5px solid gray\"> </hr>"
   ]
  },
  {
   "cell_type": "markdown",
   "id": "f1940ab9",
   "metadata": {},
   "source": [
    "# 1) Feature Interaction"
   ]
  },
  {
   "cell_type": "markdown",
   "id": "a7ea76ac",
   "metadata": {},
   "source": [
    "## Explain feature interaction and give an example. What challenges arise for interpretability methods? "
   ]
  },
  {
   "cell_type": "markdown",
   "id": "fe1918b4",
   "metadata": {},
   "source": [
    "From 8.3.: \"The interaction between two features is the change in the prediction that occurs by varying the features after considering the individual feature effects.\" This means that \"the prediction cannot be expressed as the sum of the feature effects, because the effect of one feature depends on the value of the other feature\" and hence we need to take this into consideration for interpretation."
   ]
  },
  {
   "cell_type": "markdown",
   "id": "63ed6c18",
   "metadata": {},
   "source": [
    "# 2) Permutation Feature Importance\n",
    "\n",
    "#### a) What is permutation feature importance? Does this importance measure take into account feature interaction explicitly?  \n",
    "\n"
   ]
  },
  {
   "cell_type": "markdown",
   "id": "13f747f9",
   "metadata": {},
   "source": [
    "From 8.5.: \"We measure the importance of a feature by calculating the increase in the model’s prediction error after permuting the feature. A feature is “important” if shuffling its values increases the model error, because in this case the model relied on the feature for the prediction. A feature is “unimportant” if shuffling its values leaves the model error unchanged, because in this case the model ignored the feature for the prediction.\"\n",
    "\n",
    "Permuting the features does not only break the association between features and outcome, but also breaks the association between features. Hence, this importance measure disregards feature interaction."
   ]
  },
  {
   "cell_type": "markdown",
   "id": "dfe348e9",
   "metadata": {},
   "source": [
    "#### b) Remember that we had fitted a decision tree classifier to the iris data set two weeks ago. For this model, calculate the permutation feature importance.\n"
   ]
  },
  {
   "cell_type": "code",
   "execution_count": 3,
   "id": "c97a350d",
   "metadata": {},
   "outputs": [
    {
     "name": "stdout",
     "output_type": "stream",
     "text": [
      "['setosa' 'versicolor' 'virginica']\n",
      "['sepal length (cm)', 'sepal width (cm)', 'petal length (cm)', 'petal width (cm)']\n"
     ]
    }
   ],
   "source": [
    "from sklearn.datasets import load_iris\n",
    "from sklearn import tree\n",
    "iris = load_iris()\n",
    "print(iris.target_names)\n",
    "print(iris.feature_names)\n",
    "model = tree.DecisionTreeClassifier()\n",
    "model = model.fit(iris.data, iris.target)"
   ]
  },
  {
   "cell_type": "code",
   "execution_count": 5,
   "id": "272f4ed6",
   "metadata": {},
   "outputs": [],
   "source": [
    "from sklearn.inspection import permutation_importance"
   ]
  },
  {
   "cell_type": "code",
   "execution_count": 8,
   "id": "856d2d5e",
   "metadata": {},
   "outputs": [
    {
     "data": {
      "text/plain": [
       "{'importances_mean': array([0.012     , 0.        , 0.152     , 0.52533333]),\n",
       " 'importances_std': array([0.00653197, 0.        , 0.01995551, 0.03357248]),\n",
       " 'importances': array([[0.00666667, 0.01333333, 0.02      , 0.00666667, 0.02      ,\n",
       "         0.00666667, 0.        , 0.01333333, 0.01333333, 0.02      ],\n",
       "        [0.        , 0.        , 0.        , 0.        , 0.        ,\n",
       "         0.        , 0.        , 0.        , 0.        , 0.        ],\n",
       "        [0.16      , 0.16      , 0.18      , 0.18666667, 0.14      ,\n",
       "         0.15333333, 0.12      , 0.14666667, 0.14666667, 0.12666667],\n",
       "        [0.53333333, 0.58      , 0.48666667, 0.52666667, 0.50666667,\n",
       "         0.53333333, 0.54      , 0.54666667, 0.45333333, 0.54666667]])}"
      ]
     },
     "execution_count": 8,
     "metadata": {},
     "output_type": "execute_result"
    }
   ],
   "source": [
    "result = permutation_importance(model, iris.data, iris.target, n_repeats=10,random_state=0)\n",
    "result"
   ]
  },
  {
   "cell_type": "markdown",
   "id": "7ccf978f",
   "metadata": {},
   "source": [
    "#### c) Visualize the permutation feature importance results, i.e. plot the mean variable importances and the according standard deviations\n"
   ]
  },
  {
   "cell_type": "code",
   "execution_count": 15,
   "id": "1dd1906a",
   "metadata": {},
   "outputs": [],
   "source": [
    "import pandas as pd\n",
    "import matplotlib.pyplot as plt\n",
    "\n",
    "importances = pd.Series(result.importances_mean, index=iris.feature_names)"
   ]
  },
  {
   "cell_type": "code",
   "execution_count": 17,
   "id": "217c0c6e",
   "metadata": {},
   "outputs": [
    {
     "data": {
      "image/png": "[encoded data removed]",
      "text/plain": [
       "<Figure size 432x288 with 1 Axes>"
      ]
     },
     "metadata": {
      "needs_background": "light"
     },
     "output_type": "display_data"
    }
   ],
   "source": [
    "fig, ax = plt.subplots()\n",
    "importances.plot.bar(yerr=result.importances_std, ax=ax)\n",
    "ax.set_title(\"Permutation Feature importances\")\n",
    "ax.set_ylabel(\"Mean loss decrease\")\n",
    "fig.tight_layout()\n",
    "plt.show()"
   ]
  },
  {
   "cell_type": "markdown",
   "id": "d195f993",
   "metadata": {},
   "source": [
    "#### d) BONUS: Using imported libraries is easy, but can you fill out the gaps in the hand-coded permutation feature importance algorithm below? "
   ]
  }
 ],
 "metadata": {
  "kernelspec": {
   "display_name": "Python 3.8.8 64-bit ('base': conda)",
   "language": "python",
   "name": "python388jvsc74a57bd088dc94f85831c7bd35a321f0de4bbf881cfe74aa5b6804b5ee4d1f1a4d445235"
  },
  "language_info": {
   "codemirror_mode": {
    "name": "ipython",
    "version": 3
   },
   "file_extension": ".py",
   "mimetype": "text/x-python",
   "name": "python",
   "nbconvert_exporter": "python",
   "pygments_lexer": "ipython3",
   "version": "3.8.8"
  }
 },
 "nbformat": 4,
 "nbformat_minor": 5
}
