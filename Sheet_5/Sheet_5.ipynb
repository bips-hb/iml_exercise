{
 "cells": [
  {
   "cell_type": "markdown",
   "id": "10758e62",
   "metadata": {},
   "source": [
    "# Interpretable Machine Learning\n",
    "## Exercise Sheet: 5\n",
    "## This exercise sheet covers chapters 8.3 and 8.5 from the IML book by Christoph Molnar\n",
    "\n",
    "Kristin Blesch (blesch@leibniz-bips.de)<br>\n",
    "Niklas Koenen (koenen@leibniz-bips.de)\n",
    "<hr style=\"border:1.5px solid gray\"> </hr>"
   ]
  },
  {
   "cell_type": "markdown",
   "id": "f1940ab9",
   "metadata": {},
   "source": [
    "# 1) Feature Interaction"
   ]
  },
  {
   "cell_type": "markdown",
   "id": "a7ea76ac",
   "metadata": {},
   "source": [
    "#### Explain feature interaction and give an example. What challenges arise for interpretability methods? "
   ]
  },
  {
   "cell_type": "markdown",
   "id": "63ed6c18",
   "metadata": {},
   "source": [
    "# 2) Permutation Feature Importance\n",
    "\n",
    "#### a) What is permutation feature importance? Does this importance measure take into account feature interaction explicitly?  \n",
    "\n"
   ]
  },
  {
   "cell_type": "markdown",
   "id": "dfe348e9",
   "metadata": {},
   "source": [
    "#### b) Remember that we had fitted a decision tree classifier to the iris data set two weeks ago. For this model, calculate the permutation feature importance.\n"
   ]
  },
  {
   "cell_type": "code",
   "execution_count": 3,
   "id": "c97a350d",
   "metadata": {},
   "outputs": [],
   "source": [
    "from sklearn.datasets import load_iris\n",
    "from sklearn import tree\n",
    "from sklearn.inspection import permutation_importance\n",
    "iris = load_iris()\n"
   ]
  },
  {
   "cell_type": "markdown",
   "id": "7ccf978f",
   "metadata": {},
   "source": [
    "#### c) Visualize the permutation feature importance results, i.e. plot the mean variable importances and the according standard deviations. What does this plot tell us?\n"
   ]
  },
  {
   "cell_type": "code",
   "execution_count": 15,
   "id": "1dd1906a",
   "metadata": {},
   "outputs": [],
   "source": [
    "import pandas as pd\n",
    "import matplotlib.pyplot as plt\n",
    "\n"
   ]
  }
 ],
 "metadata": {
  "kernelspec": {
   "display_name": "Python 3.8.8 64-bit ('base': conda)",
   "language": "python",
   "name": "python388jvsc74a57bd088dc94f85831c7bd35a321f0de4bbf881cfe74aa5b6804b5ee4d1f1a4d445235"
  },
  "language_info": {
   "codemirror_mode": {
    "name": "ipython",
    "version": 3
   },
   "file_extension": ".py",
   "mimetype": "text/x-python",
   "name": "python",
   "nbconvert_exporter": "python",
   "pygments_lexer": "ipython3",
   "version": "3.8.8"
  }
 },
 "nbformat": 4,
 "nbformat_minor": 5
}
