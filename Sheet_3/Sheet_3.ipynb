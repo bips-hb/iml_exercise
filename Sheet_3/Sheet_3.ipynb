{
 "cells": [
  {
   "cell_type": "markdown",
   "id": "10758e62",
   "metadata": {},
   "source": [
    "# Interpretable Machine Learning\n",
    "## Exercise Sheet: 3\n",
    "## This exercise sheet covers chapters 5.4 and 5.5 from the IML book by Christoph Molnar\n",
    "\n",
    "Kristin Blesch (blesch@leibniz-bips.de)<br>\n",
    "Niklas Koenen (koenen@leibniz-bips.de)\n",
    "<hr style=\"border:1.5px solid gray\"> </hr>"
   ]
  },
  {
   "cell_type": "markdown",
   "id": "f1940ab9",
   "metadata": {},
   "source": [
    "# 1) Decision Trees"
   ]
  },
  {
   "cell_type": "markdown",
   "id": "a7ea76ac",
   "metadata": {},
   "source": [
    "## a) Data\n",
    "For this exercise, we will use the famous `iris` data set that contains multivariate data on iris flowers. Load the data an get yourself familiar with the explanatory variables. \n",
    "\n",
    "Hint: have a look at `feature_names` and `target_names`.\n",
    "\n",
    "**Hint:**"
   ]
  },
  {
   "cell_type": "code",
   "execution_count": 45,
   "id": "02d3501a",
   "metadata": {},
   "outputs": [],
   "source": [
    "from sklearn.datasets import load_iris\n",
    "iris = load_iris()"
   ]
  },
  {
   "cell_type": "markdown",
   "id": "d588abe0",
   "metadata": {},
   "source": [
    "## b) Decision Tree model\n",
    "\n",
    "#### 1. We now want to build a decision tree model that predicts whether the iris flower is of kind `'setosa', 'versicolor'` or `'virginica'`. For this purpose, do we have to fit a regression or classification decision tree? \n",
    "\n"
   ]
  },
  {
   "cell_type": "markdown",
   "id": "63107545",
   "metadata": {},
   "source": [
    "#### 2. Fit a decision tree model using the iris data set.\n",
    "**Hint:**"
   ]
  },
  {
   "cell_type": "code",
   "execution_count": 46,
   "id": "d0254662",
   "metadata": {},
   "outputs": [],
   "source": [
    "from sklearn import tree\n"
   ]
  },
  {
   "cell_type": "markdown",
   "id": "dabd767d",
   "metadata": {},
   "source": [
    "#### 3. Display the fitted tree in text format. Explain how to read the output and interpret the results! \n",
    "**Hint:**"
   ]
  },
  {
   "cell_type": "code",
   "execution_count": 47,
   "id": "96bd3b97",
   "metadata": {},
   "outputs": [],
   "source": [
    "from sklearn.tree import export_text\n"
   ]
  },
  {
   "cell_type": "markdown",
   "id": "24439ff1",
   "metadata": {},
   "source": [
    "#### 4. Display the fitted tree graphically using the `plot_tree()` method. Explain how to read the output and interpret the results! \n"
   ]
  },
  {
   "cell_type": "markdown",
   "id": "1bcbb086",
   "metadata": {},
   "source": [
    "#### 5. In the graph there are values of the so-called 'Gini impurity' displayed, what do these values tell us?\n"
   ]
  },
  {
   "cell_type": "markdown",
   "id": "63ed6c18",
   "metadata": {},
   "source": [
    "# 2) Decision Rules \n",
    "\n",
    "#### a) Explain what decision rules are and give an example.\n",
    "\n"
   ]
  },
  {
   "cell_type": "markdown",
   "id": "dfe348e9",
   "metadata": {},
   "source": [
    "#### b) In many cases, making accurate predictions does not only require a single decision rule, but many. However, this might lead to confusion, for example if multiple decision rules apply at the same time.  What strategies can we use to combine different decision rules?\n"
   ]
  },
  {
   "cell_type": "markdown",
   "id": "7ccf978f",
   "metadata": {},
   "source": [
    "#### c) What is OneR? How does the algorithm work?"
   ]
  },
  {
   "cell_type": "markdown",
   "id": "d195f993",
   "metadata": {},
   "source": [
    "#### d) Apply the OneR classification algorithm to the same predictive problem as in task 1 (iris data set), show the rules applied for prediction and then generate predictions for the training data. "
   ]
  },
  {
   "cell_type": "markdown",
   "id": "a73d9c62",
   "metadata": {},
   "source": [
    "**Hint**\n",
    "Import the classifier, fit the model, predict the iris type using training data (i.e. we don't expect a train/test split for this exercise)"
   ]
  },
  {
   "cell_type": "code",
   "execution_count": 39,
   "id": "09ca9b8d",
   "metadata": {},
   "outputs": [],
   "source": [
    "from mlxtend.classifier import OneRClassifier\n"
   ]
  }
 ],
 "metadata": {
  "kernelspec": {
   "display_name": "Python 3.8.8 64-bit ('base': conda)",
   "language": "python",
   "name": "python388jvsc74a57bd088dc94f85831c7bd35a321f0de4bbf881cfe74aa5b6804b5ee4d1f1a4d445235"
  },
  "language_info": {
   "codemirror_mode": {
    "name": "ipython",
    "version": 3
   },
   "file_extension": ".py",
   "mimetype": "text/x-python",
   "name": "python",
   "nbconvert_exporter": "python",
   "pygments_lexer": "ipython3",
   "version": "3.8.8"
  }
 },
 "nbformat": 4,
 "nbformat_minor": 5
}
