{
 "cells": [
  {
   "cell_type": "markdown",
   "id": "10758e62",
   "metadata": {},
   "source": [
    "# Interpretable Machine Learning\n",
    "## Exercise Sheet: 3\n",
    "## This exercise sheet covers chapters 5.4 and 5.5 from the IML book by Christoph Molnar\n",
    "\n",
    "Kristin Blesch (blesch@leibniz-bips.de)<br>\n",
    "Niklas Koenen (koenen@leibniz-bips.de)\n",
    "<hr style=\"border:1.5px solid gray\"> </hr>"
   ]
  },
  {
   "cell_type": "markdown",
   "id": "f1940ab9",
   "metadata": {},
   "source": [
    "# 1) Decision Trees"
   ]
  },
  {
   "cell_type": "markdown",
   "id": "a7ea76ac",
   "metadata": {},
   "source": [
    "## a) Data\n",
    "For this exercise, we will use the famous `iris` data set that contains multivariate data on iris flowers. Load the data an get yourself familiar with the explanatory variables. \n",
    "\n",
    "Hint: have a look at `feature_names` and `target_names`.\n",
    "\n",
    "**Solution:**"
   ]
  },
  {
   "cell_type": "code",
   "execution_count": 6,
   "id": "02d3501a",
   "metadata": {},
   "outputs": [],
   "source": [
    "from sklearn.datasets import load_iris\n",
    "iris = load_iris()"
   ]
  },
  {
   "cell_type": "code",
   "execution_count": 7,
   "id": "9b6ccf4f",
   "metadata": {},
   "outputs": [
    {
     "data": {
      "text/plain": [
       "array(['setosa', 'versicolor', 'virginica'], dtype='<U10')"
      ]
     },
     "execution_count": 7,
     "metadata": {},
     "output_type": "execute_result"
    }
   ],
   "source": [
    "iris.target_names"
   ]
  },
  {
   "cell_type": "code",
   "execution_count": 8,
   "id": "a7171e45",
   "metadata": {},
   "outputs": [
    {
     "data": {
      "text/plain": [
       "['sepal length (cm)',\n",
       " 'sepal width (cm)',\n",
       " 'petal length (cm)',\n",
       " 'petal width (cm)']"
      ]
     },
     "execution_count": 8,
     "metadata": {},
     "output_type": "execute_result"
    }
   ],
   "source": [
    "iris.feature_names"
   ]
  },
  {
   "cell_type": "markdown",
   "id": "d588abe0",
   "metadata": {},
   "source": [
    "## b) Decision Tree model\n",
    "\n",
    "#### 1. We now want to build a decision tree model that predicts whether the iris flower is of kind `'setosa', 'versicolor'` or `'virginica'`. For this purpose, do we have to fit a regression or classification decision tree? \n",
    "\n",
    "**Solution:**\n"
   ]
  },
  {
   "cell_type": "markdown",
   "id": "fae288f5",
   "metadata": {},
   "source": [
    "This is a classification problem as the iris flower belongs to one out of three possible categories. "
   ]
  },
  {
   "cell_type": "markdown",
   "id": "63107545",
   "metadata": {},
   "source": [
    "#### 2. Fit a decision tree model using the iris data set.\n",
    "**Solution:**"
   ]
  },
  {
   "cell_type": "code",
   "execution_count": 9,
   "id": "d0254662",
   "metadata": {},
   "outputs": [],
   "source": [
    "from sklearn import tree\n",
    "\n",
    "model = tree.DecisionTreeClassifier()\n",
    "model = model.fit(iris.data, iris.target)"
   ]
  },
  {
   "cell_type": "markdown",
   "id": "dabd767d",
   "metadata": {},
   "source": [
    "#### 3. Display the fitted tree in text format. Explain how to read the output and interpret the results! \n",
    "**Solution:**"
   ]
  },
  {
   "cell_type": "code",
   "execution_count": 10,
   "id": "96bd3b97",
   "metadata": {},
   "outputs": [
    {
     "name": "stdout",
     "output_type": "stream",
     "text": [
      "|--- petal width (cm) <= 0.80\n",
      "|   |--- class: 0\n",
      "|--- petal width (cm) >  0.80\n",
      "|   |--- petal width (cm) <= 1.75\n",
      "|   |   |--- petal length (cm) <= 4.95\n",
      "|   |   |   |--- petal width (cm) <= 1.65\n",
      "|   |   |   |   |--- class: 1\n",
      "|   |   |   |--- petal width (cm) >  1.65\n",
      "|   |   |   |   |--- class: 2\n",
      "|   |   |--- petal length (cm) >  4.95\n",
      "|   |   |   |--- petal width (cm) <= 1.55\n",
      "|   |   |   |   |--- class: 2\n",
      "|   |   |   |--- petal width (cm) >  1.55\n",
      "|   |   |   |   |--- petal length (cm) <= 5.45\n",
      "|   |   |   |   |   |--- class: 1\n",
      "|   |   |   |   |--- petal length (cm) >  5.45\n",
      "|   |   |   |   |   |--- class: 2\n",
      "|   |--- petal width (cm) >  1.75\n",
      "|   |   |--- petal length (cm) <= 4.85\n",
      "|   |   |   |--- sepal length (cm) <= 5.95\n",
      "|   |   |   |   |--- class: 1\n",
      "|   |   |   |--- sepal length (cm) >  5.95\n",
      "|   |   |   |   |--- class: 2\n",
      "|   |   |--- petal length (cm) >  4.85\n",
      "|   |   |   |--- class: 2\n",
      "\n"
     ]
    }
   ],
   "source": [
    "from sklearn.tree import export_text\n",
    "tree_text_plot = export_text(model, feature_names=iris['feature_names'])\n",
    "print(tree_text_plot)"
   ]
  },
  {
   "cell_type": "markdown",
   "id": "db79e157",
   "metadata": {},
   "source": [
    "Reading the output from left to right and top to bottom gives information on splitting nodes, i.e. which variable was used for splitting and at which level; Example: Petal length is chosen as root node to classify `class 0` if `petal length <= 2.45`. If `petal length > 2.45`, the decision tree continues with subsequent nodes to split, in this case `petal width <= 1.75`."
   ]
  },
  {
   "cell_type": "markdown",
   "id": "24439ff1",
   "metadata": {},
   "source": [
    "#### 4. Display the fitted tree graphically using the `plot_tree()` method. Explain how to read the output and interpret the results! \n",
    "**Solution:**"
   ]
  },
  {
   "cell_type": "code",
   "execution_count": 11,
   "id": "3dd25f34",
   "metadata": {},
   "outputs": [
    {
     "data": {
      "text/plain": [
       "[Text(390.6, 697.62, 'petal width (cm) <= 0.8\\ngini = 0.667\\nsamples = 150\\nvalue = [50, 50, 50]\\nclass = setosa'),\n",
       " Text(330.50769230769237, 570.78, 'gini = 0.0\\nsamples = 50\\nvalue = [50, 0, 0]\\nclass = setosa'),\n",
       " Text(450.69230769230774, 570.78, 'petal width (cm) <= 1.75\\ngini = 0.5\\nsamples = 100\\nvalue = [0, 50, 50]\\nclass = versicolor'),\n",
       " Text(240.3692307692308, 443.94, 'petal length (cm) <= 4.95\\ngini = 0.168\\nsamples = 54\\nvalue = [0, 49, 5]\\nclass = versicolor'),\n",
       " Text(120.1846153846154, 317.1, 'petal width (cm) <= 1.65\\ngini = 0.041\\nsamples = 48\\nvalue = [0, 47, 1]\\nclass = versicolor'),\n",
       " Text(60.0923076923077, 190.26, 'gini = 0.0\\nsamples = 47\\nvalue = [0, 47, 0]\\nclass = versicolor'),\n",
       " Text(180.27692307692308, 190.26, 'gini = 0.0\\nsamples = 1\\nvalue = [0, 0, 1]\\nclass = virginica'),\n",
       " Text(360.55384615384617, 317.1, 'petal width (cm) <= 1.55\\ngini = 0.444\\nsamples = 6\\nvalue = [0, 2, 4]\\nclass = virginica'),\n",
       " Text(300.4615384615385, 190.26, 'gini = 0.0\\nsamples = 3\\nvalue = [0, 0, 3]\\nclass = virginica'),\n",
       " Text(420.6461538461539, 190.26, 'petal length (cm) <= 5.45\\ngini = 0.444\\nsamples = 3\\nvalue = [0, 2, 1]\\nclass = versicolor'),\n",
       " Text(360.55384615384617, 63.42000000000007, 'gini = 0.0\\nsamples = 2\\nvalue = [0, 2, 0]\\nclass = versicolor'),\n",
       " Text(480.7384615384616, 63.42000000000007, 'gini = 0.0\\nsamples = 1\\nvalue = [0, 0, 1]\\nclass = virginica'),\n",
       " Text(661.0153846153847, 443.94, 'petal length (cm) <= 4.85\\ngini = 0.043\\nsamples = 46\\nvalue = [0, 1, 45]\\nclass = virginica'),\n",
       " Text(600.923076923077, 317.1, 'sepal length (cm) <= 5.95\\ngini = 0.444\\nsamples = 3\\nvalue = [0, 1, 2]\\nclass = virginica'),\n",
       " Text(540.8307692307693, 190.26, 'gini = 0.0\\nsamples = 1\\nvalue = [0, 1, 0]\\nclass = versicolor'),\n",
       " Text(661.0153846153847, 190.26, 'gini = 0.0\\nsamples = 2\\nvalue = [0, 0, 2]\\nclass = virginica'),\n",
       " Text(721.1076923076923, 317.1, 'gini = 0.0\\nsamples = 43\\nvalue = [0, 0, 43]\\nclass = virginica')]"
      ]
     },
     "execution_count": 11,
     "metadata": {},
     "output_type": "execute_result"
    },
    {
     "data": {
      "image/png": "[encoded data removed]",
      "text/plain": [
       "<Figure size 1008x1008 with 1 Axes>"
      ]
     },
     "metadata": {
      "needs_background": "light"
     },
     "output_type": "display_data"
    }
   ],
   "source": [
    "# adjusting the size of the plot\n",
    "import matplotlib.pyplot as plt\n",
    "plt.figure(figsize=(14,14)) \n",
    "\n",
    "tree.plot_tree(model, feature_names=iris.feature_names, class_names=iris.target_names)"
   ]
  },
  {
   "cell_type": "markdown",
   "id": "eecb668e",
   "metadata": {},
   "source": [
    "Reading the output from top to bottom gives information on splitting nodes, i.e. which variable was used for splitting and at which level; Example: Petal length is chosen as root node to classify `setosa` if `petal length <= 2.45`. If `petal length > 2.45`, the decision tree continues with subsequent nodes to split, in this case `petal width <= 1.75`."
   ]
  },
  {
   "cell_type": "markdown",
   "id": "1bcbb086",
   "metadata": {},
   "source": [
    "#### 5. In the graph there are values of the so-called 'Gini impurity' displayed, what do these values tell us?\n",
    "**Solution:**"
   ]
  },
  {
   "cell_type": "markdown",
   "id": "0ac6dbc8",
   "metadata": {},
   "source": [
    "\"The Gini index tells us how “impure” a node is, e.g. if all classes have the same frequency, the node is impure, if only one class is present, it is maximally pure.\" (IML book by Christoph Molnar, Chapter 4.4)"
   ]
  },
  {
   "cell_type": "markdown",
   "id": "63ed6c18",
   "metadata": {},
   "source": [
    "# 2) Decision Rules \n",
    "\n",
    "#### a) Explain what decision rules are and give an example.\n",
    "\n"
   ]
  },
  {
   "cell_type": "markdown",
   "id": "66d2abc3",
   "metadata": {},
   "source": [
    "**Solution:**\n",
    "- \"A decision rule is a simple IF-THEN statement consisting of a condition (also called antecedent) and a prediction\" from Chapter 5.4\n",
    "- One possible example: IF you read the IML book AND follow exercise sessions on a regular basis THEN you will have an easy time preparing for the exam of this course."
   ]
  },
  {
   "cell_type": "markdown",
   "id": "b7946a59",
   "metadata": {},
   "source": [
    "#### b) In many cases, making accurate predictions does not only require a single decision rule, but many. However, this might lead to confusion, for example if multiple decision rules apply at the same time.  What strategies can we use to combine different decision rules?\n"
   ]
  },
  {
   "cell_type": "markdown",
   "id": "703f71e3",
   "metadata": {},
   "source": [
    "**Solution:**\n",
    "1. Using a decision list to order the decision rules: List all rules and use the prediction of the first rule in the list that applies.\n",
    "2. Using a decision set: \"In a set, the rules are either mutually exclusive, or there is a strategy for resolving conflicts, such as majority voting, which may be weighted by the individual rule accuracies or other quality measures. Interpretability suffers potentially when several rules apply.\""
   ]
  },
  {
   "cell_type": "markdown",
   "id": "83fdacce",
   "metadata": {},
   "source": [
    "#### c) What is OneR? How does the algorithm work?"
   ]
  },
  {
   "cell_type": "markdown",
   "id": "52905ee6",
   "metadata": {},
   "source": [
    "**Solution**\n",
    "OneR is one way to learn rules from data. From all the features, OneR selects the one feature that carries the most information about the outcome of interest and creates decision rules from this feature.\n",
    "\n",
    "\"The algorithm is simple and fast:\n",
    "\n",
    "1. Discretize the continuous features by choosing appropriate intervals.\n",
    "For each feature:\n",
    "2. Create a cross table between the feature values and the (categorical) outcome.\n",
    "- For each value of the feature, create a rule which predicts the most frequent class of the instances that have this particular feature value (can be read from the cross table).\n",
    "- Calculate the total error of the rules for the feature.\n",
    "3. Select the feature with the smallest total error.\""
   ]
  },
  {
   "cell_type": "markdown",
   "id": "d5726acb",
   "metadata": {},
   "source": [
    "#### d) Apply the OneR classification algorithm to the same predictive problem as in task 1 (iris data set), show the rules applied for prediction and then generate predictions for the training data. "
   ]
  },
  {
   "cell_type": "markdown",
   "id": "38e5e829",
   "metadata": {},
   "source": [
    "**Hint**\n",
    "Import the classifier, fit the model, predict the iris type using training data (i.e. we don't expect a train/test split for this exercise)"
   ]
  },
  {
   "cell_type": "code",
   "execution_count": 12,
   "id": "f5bdb1af",
   "metadata": {},
   "outputs": [],
   "source": [
    "from mlxtend.classifier import OneRClassifier\n"
   ]
  },
  {
   "cell_type": "markdown",
   "id": "5d3b0738",
   "metadata": {},
   "source": [
    "**Solution**"
   ]
  },
  {
   "cell_type": "code",
   "execution_count": 14,
   "id": "51f63d48",
   "metadata": {},
   "outputs": [
    {
     "data": {
      "text/plain": [
       "OneRClassifier()"
      ]
     },
     "execution_count": 14,
     "metadata": {},
     "output_type": "execute_result"
    }
   ],
   "source": [
    "from mlxtend.classifier import OneRClassifier\n",
    "oner = OneRClassifier()\n",
    "\n",
    "oner.fit(iris.data, iris.target)"
   ]
  },
  {
   "cell_type": "code",
   "execution_count": 35,
   "id": "a6e02825",
   "metadata": {},
   "outputs": [
    {
     "data": {
      "text/plain": [
       "'petal width (cm)'"
      ]
     },
     "execution_count": 35,
     "metadata": {},
     "output_type": "execute_result"
    }
   ],
   "source": [
    "iris.feature_names[oner.feature_idx_]"
   ]
  },
  {
   "cell_type": "markdown",
   "id": "b69b1841",
   "metadata": {},
   "source": [
    "Column 'petal width' has been selected for the decision rule."
   ]
  },
  {
   "cell_type": "code",
   "execution_count": 22,
   "id": "16b50cd3",
   "metadata": {},
   "outputs": [
    {
     "data": {
      "text/plain": [
       "{'total error': 6,\n",
       " 'rules (value: class)': {0.1: 0,\n",
       "  0.2: 0,\n",
       "  0.3: 0,\n",
       "  0.4: 0,\n",
       "  0.5: 0,\n",
       "  0.6: 0,\n",
       "  1.0: 1,\n",
       "  1.1: 1,\n",
       "  1.2: 1,\n",
       "  1.3: 1,\n",
       "  1.4: 1,\n",
       "  1.5: 1,\n",
       "  1.6: 1,\n",
       "  1.7: 1,\n",
       "  1.8: 2,\n",
       "  1.9: 2,\n",
       "  2.0: 2,\n",
       "  2.1: 2,\n",
       "  2.2: 2,\n",
       "  2.3: 2,\n",
       "  2.4: 2,\n",
       "  2.5: 2}}"
      ]
     },
     "execution_count": 22,
     "metadata": {},
     "output_type": "execute_result"
    }
   ],
   "source": [
    "oner.prediction_dict_"
   ]
  },
  {
   "cell_type": "raw",
   "id": "a298dcf9",
   "metadata": {},
   "source": [
    "For values of petal width <1.0 class 0 (setosa) is predicted, if petal width <1.8 class 1 (versicolor) is predicted and class 2 (virginica) otherwise"
   ]
  },
  {
   "cell_type": "code",
   "execution_count": 15,
   "id": "0cfda8bf",
   "metadata": {
    "scrolled": true
   },
   "outputs": [
    {
     "data": {
      "text/plain": [
       "array([0, 0, 0, 0, 0, 0, 0, 0, 0, 0, 0, 0, 0, 0, 0, 0, 0, 0, 0, 0, 0, 0,\n",
       "       0, 0, 0, 0, 0, 0, 0, 0, 0, 0, 0, 0, 0, 0, 0, 0, 0, 0, 0, 0, 0, 0,\n",
       "       0, 0, 0, 0, 0, 0, 1, 1, 1, 1, 1, 1, 1, 1, 1, 1, 1, 1, 1, 1, 1, 1,\n",
       "       1, 1, 1, 1, 2, 1, 1, 1, 1, 1, 1, 1, 1, 1, 1, 1, 1, 1, 1, 1, 1, 1,\n",
       "       1, 1, 1, 1, 1, 1, 1, 1, 1, 1, 1, 1, 2, 2, 2, 2, 2, 2, 1, 2, 2, 2,\n",
       "       2, 2, 2, 2, 2, 2, 2, 2, 2, 1, 2, 2, 2, 2, 2, 2, 2, 2, 2, 1, 2, 2,\n",
       "       2, 1, 1, 2, 2, 2, 2, 2, 2, 2, 2, 2, 2, 2, 2, 2, 2, 2])"
      ]
     },
     "execution_count": 15,
     "metadata": {},
     "output_type": "execute_result"
    }
   ],
   "source": [
    "oner.predict(iris.data)"
   ]
  },
  {
   "cell_type": "markdown",
   "id": "32367d09",
   "metadata": {},
   "source": [
    "Having a look at how often the prediction was right:"
   ]
  },
  {
   "cell_type": "code",
   "execution_count": 38,
   "id": "2ba13112",
   "metadata": {},
   "outputs": [
    {
     "data": {
      "text/plain": [
       "array([ True,  True,  True,  True,  True,  True,  True,  True,  True,\n",
       "        True,  True,  True,  True,  True,  True,  True,  True,  True,\n",
       "        True,  True,  True,  True,  True,  True,  True,  True,  True,\n",
       "        True,  True,  True,  True,  True,  True,  True,  True,  True,\n",
       "        True,  True,  True,  True,  True,  True,  True,  True,  True,\n",
       "        True,  True,  True,  True,  True,  True,  True,  True,  True,\n",
       "        True,  True,  True,  True,  True,  True,  True,  True,  True,\n",
       "        True,  True,  True,  True,  True,  True,  True, False,  True,\n",
       "        True,  True,  True,  True,  True,  True,  True,  True,  True,\n",
       "        True,  True,  True,  True,  True,  True,  True,  True,  True,\n",
       "        True,  True,  True,  True,  True,  True,  True,  True,  True,\n",
       "        True,  True,  True,  True,  True,  True,  True, False,  True,\n",
       "        True,  True,  True,  True,  True,  True,  True,  True,  True,\n",
       "        True,  True, False,  True,  True,  True,  True,  True,  True,\n",
       "        True,  True,  True, False,  True,  True,  True, False, False,\n",
       "        True,  True,  True,  True,  True,  True,  True,  True,  True,\n",
       "        True,  True,  True,  True,  True,  True])"
      ]
     },
     "execution_count": 38,
     "metadata": {},
     "output_type": "execute_result"
    }
   ],
   "source": [
    "iris.target == oner.predict(iris.data)"
   ]
  },
  {
   "cell_type": "code",
   "execution_count": 37,
   "id": "b9f38547",
   "metadata": {},
   "outputs": [
    {
     "data": {
      "text/plain": [
       "array([0, 0, 0, 0, 0, 0, 0, 0, 0, 0, 0, 0, 0, 0, 0, 0, 0, 0, 0, 0, 0, 0,\n",
       "       0, 0, 0, 0, 0, 0, 0, 0, 0, 0, 0, 0, 0, 0, 0, 0, 0, 0, 0, 0, 0, 0,\n",
       "       0, 0, 0, 0, 0, 0, 1, 1, 1, 1, 1, 1, 1, 1, 1, 1, 1, 1, 1, 1, 1, 1,\n",
       "       1, 1, 1, 1, 1, 1, 1, 1, 1, 1, 1, 1, 1, 1, 1, 1, 1, 1, 1, 1, 1, 1,\n",
       "       1, 1, 1, 1, 1, 1, 1, 1, 1, 1, 1, 1, 2, 2, 2, 2, 2, 2, 2, 2, 2, 2,\n",
       "       2, 2, 2, 2, 2, 2, 2, 2, 2, 2, 2, 2, 2, 2, 2, 2, 2, 2, 2, 2, 2, 2,\n",
       "       2, 2, 2, 2, 2, 2, 2, 2, 2, 2, 2, 2, 2, 2, 2, 2, 2, 2])"
      ]
     },
     "execution_count": 37,
     "metadata": {},
     "output_type": "execute_result"
    }
   ],
   "source": []
  },
  {
   "cell_type": "code",
   "execution_count": null,
   "id": "2acf7b38",
   "metadata": {},
   "outputs": [],
   "source": []
  }
 ],
 "metadata": {
  "kernelspec": {
   "display_name": "Python 3.8.8 64-bit ('base': conda)",
   "language": "python",
   "name": "python388jvsc74a57bd088dc94f85831c7bd35a321f0de4bbf881cfe74aa5b6804b5ee4d1f1a4d445235"
  },
  "language_info": {
   "codemirror_mode": {
    "name": "ipython",
    "version": 3
   },
   "file_extension": ".py",
   "mimetype": "text/x-python",
   "name": "python",
   "nbconvert_exporter": "python",
   "pygments_lexer": "ipython3",
   "version": "3.8.8"
  }
 },
 "nbformat": 4,
 "nbformat_minor": 5
}
