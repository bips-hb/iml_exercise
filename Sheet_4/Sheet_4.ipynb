{
 "cells": [
  {
   "cell_type": "markdown",
   "id": "10758e62",
   "metadata": {},
   "source": [
    "# Interpretable Machine Learning\n",
    "## Exercise Sheet: 4\n",
    "## This exercise sheet covers chapters 6, 8.1 + 8.2 from the IML book by Christoph Molnar\n",
    "\n",
    "Kristin Blesch (blesch@leibniz-bips.de)<br>\n",
    "Niklas Koenen (koenen@leibniz-bips.de)\n",
    "<hr style=\"border:1.5px solid gray\"> </hr>"
   ]
  },
  {
   "cell_type": "markdown",
   "id": "f1940ab9",
   "metadata": {},
   "source": [
    "# 1) Partial Dependence Plot (PDP)"
   ]
  },
  {
   "cell_type": "markdown",
   "id": "80f7a3b1",
   "metadata": {},
   "source": [
    "In this task, the concept of Partial Dependence Plots (PDP) will be explained. For this, you have to train a multilayer perceptron (MLP) on the regression dataset `sklearn.datasets.fetch_california_housing` and then implement the PDP method on your own."
   ]
  },
  {
   "cell_type": "markdown",
   "id": "c4135376",
   "metadata": {},
   "source": [
    "## a) Data\n",
    "Load the data and get familiar with it by extracting the features $X$ as a `pandas.DataFrame` and the target $Y$. Then, answer the following questions:\n",
    "\n",
    "- What are the features and what are their types (numeric, binary, categorical)?\n",
    "- What is the target outcome?\n",
    "\n",
    "**Solution:**"
   ]
  },
  {
   "cell_type": "code",
   "execution_count": null,
   "id": "f4e1c1c6",
   "metadata": {},
   "outputs": [],
   "source": [
    "import pandas as pd\n",
    "from sklearn.datasets import fetch_california_housing\n",
    "\n",
    "# Get features\n",
    "X = ... # to do\n",
    "\n",
    "# Get target\n",
    "Y = ... # to do"
   ]
  },
  {
   "cell_type": "markdown",
   "id": "1914386d",
   "metadata": {},
   "source": [
    "## b) Train MLP\n",
    "Create training and test data using the function `train_test_split` and train the predefined MLP model. Then calculate the $R^2$ value on the test data using the [score](https://scikit-learn.org/stable/modules/generated/sklearn.neural_network.MLPRegressor.html#sklearn.neural_network.MLPRegressor.score) method.\n",
    "\n",
    "**Hint:** Use function `fit(X_train, y_train)`.\n",
    "\n",
    "**Solution:**"
   ]
  },
  {
   "cell_type": "code",
   "execution_count": null,
   "id": "1771ed46",
   "metadata": {},
   "outputs": [],
   "source": [
    "# Create train and test split\n",
    "from sklearn.model_selection import train_test_split\n",
    "\n",
    "#\n",
    "# to do\n",
    "#\n",
    "\n",
    "# Define model\n",
    "from sklearn.pipeline import make_pipeline\n",
    "from sklearn.preprocessing import QuantileTransformer\n",
    "from sklearn.neural_network import MLPRegressor\n",
    "\n",
    "model =  make_pipeline(\n",
    "    QuantileTransformer(),\n",
    "    MLPRegressor(\n",
    "        hidden_layer_sizes=(50, 50), learning_rate_init=0.01, early_stopping=True\n",
    "    )\n",
    ")\n",
    "\n",
    "# Train the model on the trainings data\n",
    "\n",
    "#\n",
    "# to do\n",
    "#\n",
    "\n",
    "# Calculate the R^2- value\n",
    "\n",
    "#\n",
    "# to do\n",
    "#"
   ]
  },
  {
   "cell_type": "markdown",
   "id": "ccaf301a",
   "metadata": {},
   "source": [
    "## c) Implement PDP\n",
    "**i)** Now let's apply the method to the feature `HouseAge`. Crate a PDP for this feature.\n",
    "\n",
    "**Hint:** Get the minimum and maximum value of this feature and create a vector with the intermediate values (`np.linspace(min, max, 100)`). Insert these values into the test data in a loop and calculate the average output. Finally, create a plot with `plt.plot`.\n",
    "\n",
    "**Solution:**"
   ]
  },
  {
   "cell_type": "code",
   "execution_count": null,
   "id": "2e40a136",
   "metadata": {},
   "outputs": [],
   "source": [
    "import numpy as np\n",
    "import matplotlib.pyplot as plt\n",
    "\n",
    "#\n",
    "# to do\n",
    "#"
   ]
  },
  {
   "cell_type": "markdown",
   "id": "1134d724",
   "metadata": {},
   "source": [
    "**ii)** Create another PDP for this feature with the predefined function [`PartialDependenceDisplay`](https://scikit-learn.org/stable/modules/generated/sklearn.inspection.PartialDependenceDisplay.html#sklearn-inspection-partialdependencedisplay) and check your implementation.\n",
    "\n",
    "**Solution:**"
   ]
  },
  {
   "cell_type": "code",
   "execution_count": null,
   "id": "731c02d0",
   "metadata": {},
   "outputs": [],
   "source": [
    "from sklearn.inspection import PartialDependenceDisplay\n",
    "\n",
    "#\n",
    "# to do\n",
    "#"
   ]
  },
  {
   "cell_type": "markdown",
   "id": "d80186cb",
   "metadata": {},
   "source": [
    "**iii)** What do these plots tell us? Can they indicate the importance of the feature and if not, how do you get it?\n",
    "\n",
    "**Solution:**"
   ]
  },
  {
   "cell_type": "markdown",
   "id": "d5d27b89",
   "metadata": {},
   "source": []
  },
  {
   "cell_type": "markdown",
   "id": "5624ef31",
   "metadata": {},
   "source": [
    "# 2) Accumulated Local Effects (ALE) Plots\n",
    "\n",
    "## a) Theory\n",
    "\n",
    "\n",
    "**i)** What is there problem with PDPs and why can't we blindly trust PDP-based Feature Importance?\n",
    "\n",
    "**Solution:**"
   ]
  },
  {
   "cell_type": "markdown",
   "id": "f293fb3a",
   "metadata": {},
   "source": []
  },
  {
   "cell_type": "markdown",
   "id": "1cf6d64f",
   "metadata": {},
   "source": [
    "**ii)** Explain the concepts of PDP, M-Plots and ALE plots and their differences. What are the respective advantages and disadvantages of each method compared to the other two?\n",
    "\n",
    "**Solution:**"
   ]
  },
  {
   "cell_type": "markdown",
   "id": "51908e43",
   "metadata": {},
   "source": []
  },
  {
   "cell_type": "markdown",
   "id": "878cd846",
   "metadata": {},
   "source": [
    "# b) Example: ALE Plot\n",
    "\n",
    "**i)** Install the package [ALEPython](https://github.com/blent-ai/ALEPython) from Github and create an ALE plot for the example from task **1)** as well for the feature `HouseAge`.\n",
    "\n",
    "**Hint:** See the 'Install' and 'Usage' section on the Github page.\n",
    "\n",
    "**Solution:**"
   ]
  },
  {
   "cell_type": "code",
   "execution_count": null,
   "id": "144085c5",
   "metadata": {},
   "outputs": [],
   "source": [
    "# Install package\n",
    "# To use a code chunk as a console the line must start with '!'.\n",
    "\n",
    "#\n",
    "# to do\n",
    "#"
   ]
  },
  {
   "cell_type": "code",
   "execution_count": null,
   "id": "4fd9d5dc",
   "metadata": {},
   "outputs": [],
   "source": [
    "# Create the ALE plot (set 'monte_carlo = False')\n",
    "\n",
    "#\n",
    "# to do\n",
    "#"
   ]
  },
  {
   "cell_type": "markdown",
   "id": "4fcbe4a7",
   "metadata": {},
   "source": [
    "**II)** How does the ALE plot differ from the PDP in task 1? Give possible reasons for the similarities or differences.\n",
    "\n",
    "**Solution:**"
   ]
  },
  {
   "cell_type": "markdown",
   "id": "794e57a3",
   "metadata": {},
   "source": []
  }
 ],
 "metadata": {
  "kernelspec": {
   "display_name": "Python 3",
   "language": "python",
   "name": "python3"
  },
  "language_info": {
   "codemirror_mode": {
    "name": "ipython",
    "version": 3
   },
   "file_extension": ".py",
   "mimetype": "text/x-python",
   "name": "python",
   "nbconvert_exporter": "python",
   "pygments_lexer": "ipython3",
   "version": "3.8.10"
  }
 },
 "nbformat": 4,
 "nbformat_minor": 5
}
